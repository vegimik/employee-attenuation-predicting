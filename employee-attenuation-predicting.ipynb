{
 "cells": [
  {
   "cell_type": "markdown",
   "id": "a89c8eb5",
   "metadata": {},
   "source": [
    "<a id=\"1\"></a>\n",
    "<h1 style='background:#92b0ac; border:0; color:black'><center>INTRODUCTION</center></h1>\n",
    "\n",
    "- Data contain different variable that are sub classified further:\n",
    "- 1.Demographics of the Employee \n",
    "- 2.Tenure Information \n",
    "- 3.Historical data regarding performance\n",
    "- Using these data we will going to find out whether employee will stay in the company and also will see another pattern with respect to time period of person stay in the company. There are other aspects also see in the notebook you can check in visualization part.\n",
    "- Using this data HR department will find out easily what type of candidate they need to take for particular job role.\n"
   ]
  },
  {
   "cell_type": "markdown",
   "id": "e70c239c",
   "metadata": {},
   "source": [
    "<a id=\"2\"></a>\n",
    "<h1 style='background:#92b0ac; border:0; color:black'><center>LIBRARIES</center></h1>"
   ]
  },
  {
   "cell_type": "code",
   "execution_count": null,
   "id": "73bcea96",
   "metadata": {},
   "outputs": [],
   "source": [
    "import numpy as np # linear algebra\n",
    "import pandas as pd # data processing, CSV file I/O (e.g. pd.read_csv)\n",
    "import seaborn as sns\n",
    "\n",
    "#conda install -c glemaitre imbalanced-learn\n",
    "from imblearn.under_sampling import NearMiss\n",
    "\n",
    "import os\n",
    "for dirname, _, filenames in os.walk('dataset'):\n",
    "    for filename in filenames:\n",
    "        print(os.path.join(dirname, filename))\n",
    "\n",
    "\n",
    "        \n",
    "import matplotlib.pyplot as plt\n",
    "import seaborn as sns\n",
    "sns.set(color_codes = True)\n",
    "%matplotlib inline      "
   ]
  },
  {
   "cell_type": "markdown",
   "id": "159622b2",
   "metadata": {},
   "source": [
    "<a id=\"3\"></a>\n",
    "<h1 style='background:#92b0ac; border:0; color:black'><center>IMPORT_DATA</center></h1>\n",
    "\n",
    "# 2.Import Data"
   ]
  },
  {
   "cell_type": "code",
   "execution_count": null,
   "id": "2b1daad5",
   "metadata": {},
   "outputs": [],
   "source": [
    "train = pd.read_csv('dataset/train_data.csv')\n",
    "train.head()"
   ]
  },
  {
   "cell_type": "markdown",
   "id": "24cda77a",
   "metadata": {},
   "source": [
    "<a id=\"4\"></a>\n",
    "<h1 style='background:#92b0ac; border:0; color:black'><center>DATA_PREPROCESSING</center></h1>\n",
    "\n",
    "# 3. Data Preprocessing"
   ]
  },
  {
   "cell_type": "code",
   "execution_count": null,
   "id": "e00377de",
   "metadata": {},
   "outputs": [],
   "source": [
    "train.isnull().sum()"
   ]
  },
  {
   "cell_type": "code",
   "execution_count": null,
   "id": "563eb399",
   "metadata": {},
   "outputs": [],
   "source": [
    "train['Target']=np.where(train['LastWorkingDate'].isnull(),0,1)\n",
    "train.head()"
   ]
  },
  {
   "cell_type": "code",
   "execution_count": null,
   "id": "b1cbf7b8",
   "metadata": {},
   "outputs": [],
   "source": []
  },
  {
   "cell_type": "code",
   "execution_count": null,
   "id": "931688f3",
   "metadata": {},
   "outputs": [],
   "source": [
    "#final = pd.concat([total_business_groupby,employees_groupby],axis = 1,join = 'inner')\n",
    "#final\n",
    "\n",
    "#corr = final.corr()\n",
    "\n",
    "#plt.figure(figsize = (20,8))\n",
    "#sns.heatmap(corr,annot = True,cmap = 'rocket')"
   ]
  },
  {
   "cell_type": "code",
   "execution_count": null,
   "id": "f8443cbf",
   "metadata": {},
   "outputs": [],
   "source": []
  },
  {
   "cell_type": "markdown",
   "id": "48a45321",
   "metadata": {},
   "source": [
    "<a id=\"5\"></a>\n",
    "<h1 style='background:#92b0ac; border:0; color:black'><center>DATA_VISUALIZATION</center></h1>\n",
    "\n",
    "\n",
    "# 4.Data Visualization"
   ]
  },
  {
   "cell_type": "code",
   "execution_count": null,
   "id": "ab8fb670",
   "metadata": {},
   "outputs": [],
   "source": [
    "catplot=sns.catplot(x='Gender',y='Total Business Value',hue = 'Education_Level',data = final,col = 'Education_Level',col_wrap = 2)\n",
    "count_plot.set(xlabel='Gender',ylabel='Total Business Value')"
   ]
  },
  {
   "cell_type": "code",
   "execution_count": null,
   "id": "4e271f65",
   "metadata": {},
   "outputs": [],
   "source": [
    "sns.catplot('Education_Level','Salary',data = final,hue = 'Gender',col = 'City',col_wrap = 2)"
   ]
  },
  {
   "cell_type": "code",
   "execution_count": null,
   "id": "f8d9bdbf",
   "metadata": {},
   "outputs": [],
   "source": [
    "plt.subplots(figsize=(20,10))\n",
    "\n",
    "plt.subplot(231)\n",
    "count_plot=sns.countplot(x='Gender',data = final)\n",
    "count_plot.set(xlabel='Gender',ylabel='')\n",
    "\n",
    "plt.subplot(232)\n",
    "sns.countplot(x='Education_Level',data = final)\n",
    "count_plot.set(xlabel='Education_Level',ylabel='')\n",
    "\n",
    "plt.subplot(233)\n",
    "sns.countplot(x='Joining Designation',data = final)\n",
    "count_plot.set(xlabel='Joining Designation',ylabel='')\n",
    "\n",
    "plt.subplot(234)\n",
    "sns.countplot(x='Designation',data = final)\n",
    "count_plot.set(xlabel='Designation',ylabel='')\n"
   ]
  },
  {
   "cell_type": "code",
   "execution_count": null,
   "id": "00d43059",
   "metadata": {},
   "outputs": [],
   "source": [
    "plt.figure(figsize = (20,8))\n",
    "count_plot=sns.countplot(x='City',data = final,palette= 'rocket')\n",
    "count_plot.set(xlabel='City',ylabel='')"
   ]
  },
  {
   "cell_type": "code",
   "execution_count": null,
   "id": "1c47bc47",
   "metadata": {},
   "outputs": [],
   "source": [
    "count_plot=sns.countplot(x='Target',data = final)\n",
    "count_plot.set(xlabel='Target',ylabel='')"
   ]
  },
  {
   "cell_type": "code",
   "execution_count": null,
   "id": "61045ef8",
   "metadata": {},
   "outputs": [],
   "source": [
    "final['Quarterly Rating'].unique()"
   ]
  },
  {
   "cell_type": "code",
   "execution_count": null,
   "id": "df45e579",
   "metadata": {},
   "outputs": [],
   "source": [
    "final ['Gender'] = pd.get_dummies(final['Gender'],drop_first = True)\n",
    "final"
   ]
  },
  {
   "cell_type": "code",
   "execution_count": null,
   "id": "926a3a96",
   "metadata": {},
   "outputs": [],
   "source": [
    "from sklearn.preprocessing import LabelEncoder\n",
    "\n",
    "label = LabelEncoder()\n",
    "\n",
    "final['City'] = label.fit_transform(final['City'])\n",
    "\n",
    "final['Education_Level'] = label.fit_transform(final['Education_Level'])"
   ]
  },
  {
   "cell_type": "code",
   "execution_count": null,
   "id": "c543f439",
   "metadata": {},
   "outputs": [],
   "source": [
    "final.head()"
   ]
  },
  {
   "cell_type": "code",
   "execution_count": null,
   "id": "de6cce55",
   "metadata": {},
   "outputs": [],
   "source": []
  },
  {
   "cell_type": "code",
   "execution_count": null,
   "id": "32901683",
   "metadata": {},
   "outputs": [],
   "source": []
  },
  {
   "cell_type": "code",
   "execution_count": null,
   "id": "d7738179",
   "metadata": {},
   "outputs": [],
   "source": []
  }
 ],
 "metadata": {
  "kernelspec": {
   "display_name": "Python 3 (ipykernel)",
   "language": "python",
   "name": "python3"
  },
  "language_info": {
   "codemirror_mode": {
    "name": "ipython",
    "version": 3
   },
   "file_extension": ".py",
   "mimetype": "text/x-python",
   "name": "python",
   "nbconvert_exporter": "python",
   "pygments_lexer": "ipython3",
   "version": "3.9.12"
  }
 },
 "nbformat": 4,
 "nbformat_minor": 5
}
